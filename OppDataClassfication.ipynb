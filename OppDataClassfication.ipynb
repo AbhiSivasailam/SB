{
 "cells": [
  {
   "cell_type": "code",
   "execution_count": 1,
   "metadata": {},
   "outputs": [],
   "source": [
    "import pandas as pd\n",
    "import numpy as np\n",
    "import matplotlib.pyplot as plt\n",
    "from sklearn.ensemble import RandomForestClassifier\n",
    "from sklearn import preprocessing\n",
    "import sys\n",
    "from sklearn.model_selection import train_test_split\n",
    "from sklearn import metrics"
   ]
  },
  {
   "cell_type": "code",
   "execution_count": 2,
   "metadata": {},
   "outputs": [],
   "source": [
    "df=pd.read_csv('Book1-Opp Data2.csv',parse_dates=True)"
   ]
  },
  {
   "cell_type": "code",
   "execution_count": 3,
   "metadata": {},
   "outputs": [
    {
     "name": "stdout",
     "output_type": "stream",
     "text": [
      "<class 'pandas.core.frame.DataFrame'>\n",
      "RangeIndex: 100 entries, 0 to 99\n",
      "Data columns (total 35 columns):\n",
      "ID                                                  100 non-null int64\n",
      "NAME                                                100 non-null object\n",
      "CREATEDDATE                                         100 non-null object\n",
      "EXPECTEDCLOSUREDATE                                 100 non-null object\n",
      "ACTIVITYDATE                                        100 non-null object\n",
      "CLOSURE_DATE                                        34 non-null object\n",
      "OPPORTUNITYSTATUS                                   100 non-null object\n",
      "HASCOMPETITORS                                      100 non-null object\n",
      "EXPECTEDTOTAL                                       100 non-null int64\n",
      "PROBABILITY                                         100 non-null int64\n",
      "COMPANY                                             100 non-null object\n",
      "EMAIL                                               100 non-null object\n",
      "LEADSOURCE                                          100 non-null object\n",
      "STATUS                                              100 non-null object\n",
      "INDUSTRY                                            100 non-null object\n",
      "STATE                                               100 non-null object\n",
      "COUNTRY                                             100 non-null object\n",
      "LEAD_CATEGORY                                       100 non-null object\n",
      "NO_OF_ATTEMPTS                                      100 non-null int64\n",
      "EMAIL_INTERACTION_POST_OPPORTUNITY_CREATION         100 non-null int64\n",
      "CALL_INTERACTION_POST_OPPORTUNITY_CREATION          100 non-null int64\n",
      "MEETING_POST_OPPORTUNITY_CREATION                   100 non-null int64\n",
      "ISCLOSED                                            100 non-null bool\n",
      "OVERDUE                                             100 non-null bool\n",
      "ELAPSED_TIME                                        100 non-null int64\n",
      "EMAIL_INTERACTION_POST_OPPORTUNITY_CREATION_CUMM    100 non-null int64\n",
      "CALL_INTERACTION_POST_OPPORTUNITY_CREATION_CUMM     100 non-null int64\n",
      "MEETING_POST_OPPORTUNITY_CREATION_CUMM              100 non-null int64\n",
      "POST_OPPORTUNITY_INERACTION_CUMM                    100 non-null int64\n",
      "PRE_OPPORTUNITY_INTERACTION_CUMM                    100 non-null int64\n",
      "TOTAL_INTERACTION_TILLDATE_CUMM                     100 non-null int64\n",
      "TOTAL_INTERACTION_POST_OPPORTUNITY_DAY              100 non-null int64\n",
      "TOTAL_INTERACTION_POST_OPPORTUNITY_10days           100 non-null int64\n",
      "TOTAL_INTERACTION_POST_OPPORTUNITY_WTD              100 non-null int64\n",
      "TOTAL_INTERACTION_POST_OPPORTUNITY_10DAY            100 non-null int64\n",
      "dtypes: bool(2), int64(18), object(15)\n",
      "memory usage: 26.1+ KB\n"
     ]
    }
   ],
   "source": [
    "df.info()"
   ]
  },
  {
   "cell_type": "code",
   "execution_count": 4,
   "metadata": {},
   "outputs": [],
   "source": [
    "df['CREATEDDATE']=pd.to_datetime(df['CREATEDDATE'])\n",
    "df['EXPECTEDCLOSUREDATE']=pd.to_datetime(df['EXPECTEDCLOSUREDATE'])\n",
    "df['ACTIVITYDATE']=pd.to_datetime(df['ACTIVITYDATE'])"
   ]
  },
  {
   "cell_type": "code",
   "execution_count": 5,
   "metadata": {},
   "outputs": [],
   "source": [
    "np.random.seed(0)"
   ]
  },
  {
   "cell_type": "code",
   "execution_count": 6,
   "metadata": {},
   "outputs": [
    {
     "name": "stdout",
     "output_type": "stream",
     "text": [
      "training in df: 34\n"
     ]
    }
   ],
   "source": [
    "def fnc1(row):\n",
    "    if row['OPPORTUNITYSTATUS']=='5 - Closed Lost':\n",
    "        val = 'No'\n",
    "    elif row['OPPORTUNITYSTATUS']=='5 - Closed Won':\n",
    "        val = 'Yes'\n",
    "    else:\n",
    "        val = 'Open'\n",
    "    return val\n",
    "df['Converted']=df.apply(fnc1, axis=1)\n",
    "df['is_train']=np.where(df['Converted']!='Open',True,False ) \n",
    "print ('training in df:',len(df[df['is_train']==True]))\n",
    "df2 = df.loc[df['is_train'] == False]\n",
    "df2=df2.drop('is_train',1)\n",
    "df2['is_train']=np.random.uniform(0, 1, len(df2)) <= .5\n",
    "df_new = pd.concat([df.loc[df['is_train'] == True], df2])"
   ]
  },
  {
   "cell_type": "code",
   "execution_count": 7,
   "metadata": {},
   "outputs": [
    {
     "name": "stdout",
     "output_type": "stream",
     "text": [
      "training data: 66\n",
      "test data: 34\n"
     ]
    }
   ],
   "source": [
    "train,test = df_new[df_new['is_train']==True],df_new[df_new['is_train']==False]\n",
    "print ('training data:',len(train))\n",
    "print ('test data:',len(test))\n",
    "test2 = test"
   ]
  },
  {
   "cell_type": "code",
   "execution_count": 8,
   "metadata": {},
   "outputs": [
    {
     "data": {
      "text/plain": [
       "Index(['EXPECTEDTOTAL', 'STATE', 'ELAPSED_TIME'], dtype='object')"
      ]
     },
     "execution_count": 8,
     "metadata": {},
     "output_type": "execute_result"
    }
   ],
   "source": [
    "features = df_new[['EXPECTEDTOTAL','STATE','ELAPSED_TIME']].columns\n",
    "features"
   ]
  },
  {
   "cell_type": "code",
   "execution_count": 9,
   "metadata": {},
   "outputs": [
    {
     "name": "stdout",
     "output_type": "stream",
     "text": [
      "     ID Converted  EXPECTEDTOTAL STATE  ELAPSED_TIME\n",
      "0     1       Yes           2000    FL            16\n",
      "1     2       Yes           1500    NC            11\n",
      "2     3       Yes           1300    MO            13\n",
      "3     4       Yes           3500    CA            16\n",
      "4     5       Yes           1800    AR             6\n",
      "10   11       Yes           1900    FL            13\n",
      "11   12       Yes            500    NC             9\n",
      "12   13       Yes            800    MO             3\n",
      "13   14       Yes           4300    CA            14\n",
      "14   15       Yes           1100    AR             7\n",
      "19   20       Yes           2000    AR             6\n",
      "20   21        No           2500    FL            31\n",
      "21   22        No           3000    NC            31\n",
      "22   23        No           3500    MO            35\n",
      "24   25        No           5300    AR            47\n",
      "25   26       Yes           3800    CA            30\n",
      "27   28       Yes           2000    MO            14\n",
      "28   29       Yes            500    CA            13\n",
      "30   31        No           3500    FL            31\n",
      "31   32        No           4800    NC            36\n",
      "32   33        No           5300    MO            37\n",
      "36   37        No          11000    NC            42\n",
      "37   38        No          13000    MO            39\n",
      "38   39       Yes           2200    CA            10\n",
      "39   40        No           2500    AR            38\n",
      "43   44       Yes           2300    CA            14\n",
      "46   47       Yes           2000    NC            12\n",
      "48   49       Yes            700    CA            16\n",
      "57   58       Yes           2000    MO            13\n",
      "63   64       Yes           2800    CA            16\n",
      "..  ...       ...            ...   ...           ...\n",
      "23   24      Open           4000    CA            11\n",
      "35   36      Open          11000    CA            61\n",
      "40   41      Open           3000    FL            30\n",
      "41   42      Open           3500    NC            26\n",
      "50   51      Open           4800    FL            30\n",
      "52   53      Open           5800    MO            21\n",
      "54   55      Open           9000    AR             6\n",
      "58   59      Open           6500    CA            16\n",
      "59   60      Open           3000    AR             6\n",
      "61   62      Open           4800    NC            26\n",
      "64   65      Open           6300    AR             6\n",
      "71   72      Open           5800    NC            26\n",
      "72   73      Open           6300    MO            21\n",
      "74   75      Open          11000    AR             6\n",
      "78   79      Open            900    CA            12\n",
      "79   80      Open           3500    AR             6\n",
      "80   81      Open           4800    FL            30\n",
      "81   82      Open           5300    NC            26\n",
      "85   86      Open           1500    CA             7\n",
      "87   88      Open           3500    MO            21\n",
      "88   89      Open           2800    CA             5\n",
      "89   90      Open            300    AR             6\n",
      "91   92      Open           6300    NC            26\n",
      "92   93      Open           9000    MO            21\n",
      "93   94      Open          11000    CA            16\n",
      "94   95      Open          13000    AR             6\n",
      "95   96      Open          12000    CA            30\n",
      "97   98      Open           3000    MO            21\n",
      "98   99      Open          13500    CA            16\n",
      "99  100      Open            800    AR             6\n",
      "\n",
      "[66 rows x 5 columns]\n"
     ]
    }
   ],
   "source": [
    "y = pd.factorize(train['Converted'])[0]\n",
    "print(train.loc[:,['ID','Converted','EXPECTEDTOTAL','STATE','ELAPSED_TIME']])"
   ]
  },
  {
   "cell_type": "code",
   "execution_count": 10,
   "metadata": {},
   "outputs": [
    {
     "data": {
      "text/plain": [
       "array([0, 0, 0, 0, 0, 0, 0, 0, 0, 0, 0, 1, 1, 1, 1, 0, 0, 0, 1, 1, 1, 1,\n",
       "       1, 0, 1, 0, 0, 0, 0, 0, 0, 0, 0, 0, 2, 2, 2, 2, 2, 2, 2, 2, 2, 2,\n",
       "       2, 2, 2, 2, 2, 2, 2, 2, 2, 2, 2, 2, 2, 2, 2, 2, 2, 2, 2, 2, 2, 2],\n",
       "      dtype=int64)"
      ]
     },
     "execution_count": 10,
     "metadata": {},
     "output_type": "execute_result"
    }
   ],
   "source": [
    "y"
   ]
  },
  {
   "cell_type": "code",
   "execution_count": 11,
   "metadata": {},
   "outputs": [
    {
     "name": "stdout",
     "output_type": "stream",
     "text": [
      "<class 'pandas.core.frame.DataFrame'>\n",
      "Int64Index: 66 entries, 0 to 99\n",
      "Data columns (total 3 columns):\n",
      "EXPECTEDTOTAL    66 non-null int64\n",
      "STATE            66 non-null object\n",
      "ELAPSED_TIME     66 non-null int64\n",
      "dtypes: int64(2), object(1)\n",
      "memory usage: 2.1+ KB\n"
     ]
    },
    {
     "data": {
      "text/plain": [
       "RandomForestClassifier(bootstrap=True, class_weight=None, criterion='gini',\n",
       "            max_depth=None, max_features='auto', max_leaf_nodes=None,\n",
       "            min_impurity_decrease=0.0, min_impurity_split=None,\n",
       "            min_samples_leaf=1, min_samples_split=2,\n",
       "            min_weight_fraction_leaf=0.0, n_estimators=10, n_jobs=2,\n",
       "            oob_score=False, random_state=0, verbose=0, warm_start=False)"
      ]
     },
     "execution_count": 11,
     "metadata": {},
     "output_type": "execute_result"
    }
   ],
   "source": [
    "le = preprocessing.LabelEncoder()\n",
    "clf=RandomForestClassifier(n_jobs=2,random_state=0)\n",
    "train = train[features]\n",
    "train.info()\n",
    "for column_name in train[features].columns:\n",
    "    if train[column_name].dtype == object:\n",
    "        train[column_name] = le.fit_transform(train[column_name].astype(str))\n",
    "    else:\n",
    "        pass\n",
    "clf.fit(train[features],y)"
   ]
  },
  {
   "cell_type": "code",
   "execution_count": 12,
   "metadata": {},
   "outputs": [
    {
     "name": "stdout",
     "output_type": "stream",
     "text": [
      "<class 'pandas.core.frame.DataFrame'>\n",
      "Int64Index: 34 entries, 5 to 96\n",
      "Data columns (total 3 columns):\n",
      "EXPECTEDTOTAL    34 non-null int64\n",
      "STATE            34 non-null object\n",
      "ELAPSED_TIME     34 non-null int64\n",
      "dtypes: int64(2), object(1)\n",
      "memory usage: 1.1+ KB\n"
     ]
    },
    {
     "data": {
      "text/plain": [
       "array([2, 2, 2, 2, 0, 2, 2, 2, 2, 2, 2, 2, 2, 2, 2, 0, 2, 2, 2, 1, 2, 2,\n",
       "       2, 2, 2, 2, 2, 2, 2, 2, 2, 2, 2, 2], dtype=int64)"
      ]
     },
     "execution_count": 12,
     "metadata": {},
     "output_type": "execute_result"
    }
   ],
   "source": [
    "test = test.loc[:,features]\n",
    "test.info()\n",
    "for column_name in test[features].columns:\n",
    "    if test[column_name].dtype == object:\n",
    "        test[column_name] = le.fit_transform(test[column_name].astype(str))\n",
    "    else:\n",
    "        pass\n",
    "clf.predict(test[features])"
   ]
  },
  {
   "cell_type": "code",
   "execution_count": 13,
   "metadata": {},
   "outputs": [
    {
     "name": "stdout",
     "output_type": "stream",
     "text": [
      "    ID  OPPORTUNITYSTATUS  EXPECTEDTOTAL STATE  ELAPSED_TIME\n",
      "5    6       1 - Prospect           4300    CA            30\n",
      "6    7       1 - Prospect           5800    NC            26\n",
      "7    8       1 - Prospect           6300    MO            21\n",
      "8    9  2 - Qualification           7000    CA            16\n",
      "15  16       1 - Prospect           1300    CA            30\n",
      "17  18       1 - Prospect          11000    MO            21\n",
      "18  19       1 - Prospect          13000    CA            16\n",
      "26  27       1 - Prospect           6300    NC            26\n",
      "29  30       1 - Prospect            300    AR             6\n",
      "33  34       3 - Proposal           5800    CA            16\n",
      "34  35       1 - Prospect           6300    AR             6\n",
      "42  43       3 - Proposal           4800    MO            21\n",
      "44  45       3 - Proposal           5800    AR             6\n",
      "45  46       1 - Prospect           6300    CA            30\n",
      "47  48       3 - Proposal           2500    MO            21\n",
      "49  50       3 - Proposal           1200    AR             6\n",
      "51  52       3 - Proposal           5300    NC            26\n",
      "53  54       3 - Proposal           6300    CA            16\n",
      "55  56       1 - Prospect          11000    CA            30\n",
      "56  57       3 - Proposal          13000    NC            26\n",
      "60  61  2 - Qualification           3500    FL            30\n",
      "62  63  2 - Qualification           5300    MO            21\n",
      "65  66       1 - Prospect           7700    CA            30\n",
      "66  67  2 - Qualification           2500    NC            26\n",
      "67  68  2 - Qualification           3000    MO            21\n",
      "69  70  2 - Qualification           4800    AR             6\n",
      "70  71  2 - Qualification           5300    FL            30\n",
      "73  74  2 - Qualification           9000    CA            16\n",
      "75  76       1 - Prospect          13000    CA            30\n",
      "77  78  2 - Qualification           2500    MO            21\n",
      "82  83       1 - Prospect           5800    MO            21\n",
      "86  87       1 - Prospect           3000    NC            26\n",
      "90  91       1 - Prospect           5800    FL            30\n",
      "96  97       1 - Prospect           2500    NC            26\n"
     ]
    }
   ],
   "source": [
    "print (test2.loc[:,['ID','OPPORTUNITYSTATUS','EXPECTEDTOTAL','STATE','ELAPSED_TIME']])"
   ]
  },
  {
   "cell_type": "code",
   "execution_count": 19,
   "metadata": {},
   "outputs": [
    {
     "name": "stderr",
     "output_type": "stream",
     "text": [
      "C:\\Users\\vivkashy\\AppData\\Local\\Continuum\\anaconda3\\lib\\site-packages\\ipykernel_launcher.py:9: SettingWithCopyWarning: \n",
      "A value is trying to be set on a copy of a slice from a DataFrame.\n",
      "Try using .loc[row_indexer,col_indexer] = value instead\n",
      "\n",
      "See the caveats in the documentation: http://pandas.pydata.org/pandas-docs/stable/indexing.html#indexing-view-versus-copy\n",
      "  if __name__ == '__main__':\n"
     ]
    },
    {
     "data": {
      "text/plain": [
       "RandomForestClassifier(bootstrap=True, class_weight=None, criterion='gini',\n",
       "            max_depth=None, max_features='auto', max_leaf_nodes=None,\n",
       "            min_impurity_decrease=0.0, min_impurity_split=None,\n",
       "            min_samples_leaf=1, min_samples_split=2,\n",
       "            min_weight_fraction_leaf=0.0, n_estimators=100, n_jobs=1,\n",
       "            oob_score=False, random_state=None, verbose=0,\n",
       "            warm_start=False)"
      ]
     },
     "execution_count": 19,
     "metadata": {},
     "output_type": "execute_result"
    }
   ],
   "source": [
    "y=df_new['Converted']\n",
    "X=df_new.loc[:,['EXPECTEDTOTAL','STATE','ELAPSED_TIME']]\n",
    "indices = df_new.index.values\n",
    "X_train, X_test, indices_train,indices_test = train_test_split(X, indices, test_size=0.3) \n",
    "y_train, y_test = y[indices_train],  y[indices_test]\n",
    "clf2=RandomForestClassifier(n_estimators=100)\n",
    "for column_name in X_train.columns:\n",
    "    if X_train[column_name].dtype == object:\n",
    "        X_train[column_name] = le.fit_transform(X_train[column_name].astype(str))\n",
    "    else:\n",
    "        pass\n",
    "clf2.fit(X_train,y_train)"
   ]
  },
  {
   "cell_type": "code",
   "execution_count": 20,
   "metadata": {},
   "outputs": [
    {
     "name": "stderr",
     "output_type": "stream",
     "text": [
      "C:\\Users\\vivkashy\\AppData\\Local\\Continuum\\anaconda3\\lib\\site-packages\\ipykernel_launcher.py:3: SettingWithCopyWarning: \n",
      "A value is trying to be set on a copy of a slice from a DataFrame.\n",
      "Try using .loc[row_indexer,col_indexer] = value instead\n",
      "\n",
      "See the caveats in the documentation: http://pandas.pydata.org/pandas-docs/stable/indexing.html#indexing-view-versus-copy\n",
      "  This is separate from the ipykernel package so we can avoid doing imports until\n"
     ]
    }
   ],
   "source": [
    "for column_name in X_test.columns:\n",
    "    if X_test[column_name].dtype == object:\n",
    "        X_test[column_name] = le.fit_transform(X_test[column_name].astype(str))\n",
    "    else:\n",
    "        pass\n",
    "y_pred=clf2.predict(X_test)"
   ]
  },
  {
   "cell_type": "code",
   "execution_count": 21,
   "metadata": {},
   "outputs": [
    {
     "name": "stdout",
     "output_type": "stream",
     "text": [
      "Accuracy: 0.8333333333333334\n"
     ]
    }
   ],
   "source": [
    "print(\"Accuracy:\",metrics.accuracy_score(y_test, y_pred))"
   ]
  },
  {
   "cell_type": "code",
   "execution_count": 22,
   "metadata": {},
   "outputs": [
    {
     "data": {
      "text/html": [
       "<div>\n",
       "<style scoped>\n",
       "    .dataframe tbody tr th:only-of-type {\n",
       "        vertical-align: middle;\n",
       "    }\n",
       "\n",
       "    .dataframe tbody tr th {\n",
       "        vertical-align: top;\n",
       "    }\n",
       "\n",
       "    .dataframe thead th {\n",
       "        text-align: right;\n",
       "    }\n",
       "</style>\n",
       "<table border=\"1\" class=\"dataframe\">\n",
       "  <thead>\n",
       "    <tr style=\"text-align: right;\">\n",
       "      <th></th>\n",
       "      <th>EXPECTEDTOTAL_y</th>\n",
       "      <th>STATE_y</th>\n",
       "      <th>ELAPSED_TIME_y</th>\n",
       "      <th>Converted</th>\n",
       "      <th>prediction</th>\n",
       "    </tr>\n",
       "  </thead>\n",
       "  <tbody>\n",
       "    <tr>\n",
       "      <th>81</th>\n",
       "      <td>5300</td>\n",
       "      <td>NC</td>\n",
       "      <td>26</td>\n",
       "      <td>Open</td>\n",
       "      <td>Open</td>\n",
       "    </tr>\n",
       "    <tr>\n",
       "      <th>21</th>\n",
       "      <td>3000</td>\n",
       "      <td>NC</td>\n",
       "      <td>31</td>\n",
       "      <td>No</td>\n",
       "      <td>Open</td>\n",
       "    </tr>\n",
       "    <tr>\n",
       "      <th>84</th>\n",
       "      <td>2000</td>\n",
       "      <td>AR</td>\n",
       "      <td>6</td>\n",
       "      <td>Yes</td>\n",
       "      <td>Yes</td>\n",
       "    </tr>\n",
       "    <tr>\n",
       "      <th>93</th>\n",
       "      <td>11000</td>\n",
       "      <td>CA</td>\n",
       "      <td>16</td>\n",
       "      <td>Open</td>\n",
       "      <td>Open</td>\n",
       "    </tr>\n",
       "    <tr>\n",
       "      <th>28</th>\n",
       "      <td>500</td>\n",
       "      <td>CA</td>\n",
       "      <td>13</td>\n",
       "      <td>Yes</td>\n",
       "      <td>Yes</td>\n",
       "    </tr>\n",
       "    <tr>\n",
       "      <th>80</th>\n",
       "      <td>4800</td>\n",
       "      <td>FL</td>\n",
       "      <td>30</td>\n",
       "      <td>Open</td>\n",
       "      <td>Open</td>\n",
       "    </tr>\n",
       "    <tr>\n",
       "      <th>73</th>\n",
       "      <td>9000</td>\n",
       "      <td>CA</td>\n",
       "      <td>16</td>\n",
       "      <td>Open</td>\n",
       "      <td>Open</td>\n",
       "    </tr>\n",
       "    <tr>\n",
       "      <th>64</th>\n",
       "      <td>6300</td>\n",
       "      <td>AR</td>\n",
       "      <td>6</td>\n",
       "      <td>Open</td>\n",
       "      <td>Open</td>\n",
       "    </tr>\n",
       "    <tr>\n",
       "      <th>71</th>\n",
       "      <td>5800</td>\n",
       "      <td>NC</td>\n",
       "      <td>26</td>\n",
       "      <td>Open</td>\n",
       "      <td>Open</td>\n",
       "    </tr>\n",
       "    <tr>\n",
       "      <th>30</th>\n",
       "      <td>3500</td>\n",
       "      <td>FL</td>\n",
       "      <td>31</td>\n",
       "      <td>No</td>\n",
       "      <td>Open</td>\n",
       "    </tr>\n",
       "    <tr>\n",
       "      <th>12</th>\n",
       "      <td>800</td>\n",
       "      <td>MO</td>\n",
       "      <td>3</td>\n",
       "      <td>Yes</td>\n",
       "      <td>Yes</td>\n",
       "    </tr>\n",
       "    <tr>\n",
       "      <th>10</th>\n",
       "      <td>1900</td>\n",
       "      <td>FL</td>\n",
       "      <td>13</td>\n",
       "      <td>Yes</td>\n",
       "      <td>Yes</td>\n",
       "    </tr>\n",
       "    <tr>\n",
       "      <th>11</th>\n",
       "      <td>500</td>\n",
       "      <td>NC</td>\n",
       "      <td>9</td>\n",
       "      <td>Yes</td>\n",
       "      <td>Yes</td>\n",
       "    </tr>\n",
       "    <tr>\n",
       "      <th>14</th>\n",
       "      <td>1100</td>\n",
       "      <td>AR</td>\n",
       "      <td>7</td>\n",
       "      <td>Yes</td>\n",
       "      <td>Open</td>\n",
       "    </tr>\n",
       "    <tr>\n",
       "      <th>25</th>\n",
       "      <td>3800</td>\n",
       "      <td>CA</td>\n",
       "      <td>30</td>\n",
       "      <td>Yes</td>\n",
       "      <td>Open</td>\n",
       "    </tr>\n",
       "    <tr>\n",
       "      <th>15</th>\n",
       "      <td>1300</td>\n",
       "      <td>CA</td>\n",
       "      <td>30</td>\n",
       "      <td>Open</td>\n",
       "      <td>Open</td>\n",
       "    </tr>\n",
       "    <tr>\n",
       "      <th>34</th>\n",
       "      <td>6300</td>\n",
       "      <td>AR</td>\n",
       "      <td>6</td>\n",
       "      <td>Open</td>\n",
       "      <td>Open</td>\n",
       "    </tr>\n",
       "    <tr>\n",
       "      <th>54</th>\n",
       "      <td>9000</td>\n",
       "      <td>AR</td>\n",
       "      <td>6</td>\n",
       "      <td>Open</td>\n",
       "      <td>Open</td>\n",
       "    </tr>\n",
       "    <tr>\n",
       "      <th>26</th>\n",
       "      <td>6300</td>\n",
       "      <td>NC</td>\n",
       "      <td>26</td>\n",
       "      <td>Open</td>\n",
       "      <td>Open</td>\n",
       "    </tr>\n",
       "    <tr>\n",
       "      <th>1</th>\n",
       "      <td>1500</td>\n",
       "      <td>NC</td>\n",
       "      <td>11</td>\n",
       "      <td>Yes</td>\n",
       "      <td>Yes</td>\n",
       "    </tr>\n",
       "    <tr>\n",
       "      <th>50</th>\n",
       "      <td>4800</td>\n",
       "      <td>FL</td>\n",
       "      <td>30</td>\n",
       "      <td>Open</td>\n",
       "      <td>Open</td>\n",
       "    </tr>\n",
       "    <tr>\n",
       "      <th>69</th>\n",
       "      <td>4800</td>\n",
       "      <td>AR</td>\n",
       "      <td>6</td>\n",
       "      <td>Open</td>\n",
       "      <td>Open</td>\n",
       "    </tr>\n",
       "    <tr>\n",
       "      <th>99</th>\n",
       "      <td>800</td>\n",
       "      <td>AR</td>\n",
       "      <td>6</td>\n",
       "      <td>Open</td>\n",
       "      <td>Open</td>\n",
       "    </tr>\n",
       "    <tr>\n",
       "      <th>89</th>\n",
       "      <td>300</td>\n",
       "      <td>AR</td>\n",
       "      <td>6</td>\n",
       "      <td>Open</td>\n",
       "      <td>Open</td>\n",
       "    </tr>\n",
       "    <tr>\n",
       "      <th>58</th>\n",
       "      <td>6500</td>\n",
       "      <td>CA</td>\n",
       "      <td>16</td>\n",
       "      <td>Open</td>\n",
       "      <td>Open</td>\n",
       "    </tr>\n",
       "    <tr>\n",
       "      <th>49</th>\n",
       "      <td>1200</td>\n",
       "      <td>AR</td>\n",
       "      <td>6</td>\n",
       "      <td>Open</td>\n",
       "      <td>Yes</td>\n",
       "    </tr>\n",
       "    <tr>\n",
       "      <th>77</th>\n",
       "      <td>2500</td>\n",
       "      <td>MO</td>\n",
       "      <td>21</td>\n",
       "      <td>Open</td>\n",
       "      <td>Open</td>\n",
       "    </tr>\n",
       "    <tr>\n",
       "      <th>63</th>\n",
       "      <td>2800</td>\n",
       "      <td>CA</td>\n",
       "      <td>16</td>\n",
       "      <td>Yes</td>\n",
       "      <td>Yes</td>\n",
       "    </tr>\n",
       "    <tr>\n",
       "      <th>43</th>\n",
       "      <td>2300</td>\n",
       "      <td>CA</td>\n",
       "      <td>14</td>\n",
       "      <td>Yes</td>\n",
       "      <td>Yes</td>\n",
       "    </tr>\n",
       "    <tr>\n",
       "      <th>29</th>\n",
       "      <td>300</td>\n",
       "      <td>AR</td>\n",
       "      <td>6</td>\n",
       "      <td>Open</td>\n",
       "      <td>Open</td>\n",
       "    </tr>\n",
       "  </tbody>\n",
       "</table>\n",
       "</div>"
      ],
      "text/plain": [
       "    EXPECTEDTOTAL_y STATE_y  ELAPSED_TIME_y Converted prediction\n",
       "81             5300      NC              26      Open       Open\n",
       "21             3000      NC              31        No       Open\n",
       "84             2000      AR               6       Yes        Yes\n",
       "93            11000      CA              16      Open       Open\n",
       "28              500      CA              13       Yes        Yes\n",
       "80             4800      FL              30      Open       Open\n",
       "73             9000      CA              16      Open       Open\n",
       "64             6300      AR               6      Open       Open\n",
       "71             5800      NC              26      Open       Open\n",
       "30             3500      FL              31        No       Open\n",
       "12              800      MO               3       Yes        Yes\n",
       "10             1900      FL              13       Yes        Yes\n",
       "11              500      NC               9       Yes        Yes\n",
       "14             1100      AR               7       Yes       Open\n",
       "25             3800      CA              30       Yes       Open\n",
       "15             1300      CA              30      Open       Open\n",
       "34             6300      AR               6      Open       Open\n",
       "54             9000      AR               6      Open       Open\n",
       "26             6300      NC              26      Open       Open\n",
       "1              1500      NC              11       Yes        Yes\n",
       "50             4800      FL              30      Open       Open\n",
       "69             4800      AR               6      Open       Open\n",
       "99              800      AR               6      Open       Open\n",
       "89              300      AR               6      Open       Open\n",
       "58             6500      CA              16      Open       Open\n",
       "49             1200      AR               6      Open        Yes\n",
       "77             2500      MO              21      Open       Open\n",
       "63             2800      CA              16       Yes        Yes\n",
       "43             2300      CA              14       Yes        Yes\n",
       "29              300      AR               6      Open       Open"
      ]
     },
     "execution_count": 22,
     "metadata": {},
     "output_type": "execute_result"
    }
   ],
   "source": [
    "df_results = X_test.copy()\n",
    "df_results.loc[indices_test,'prediction']=y_pred\n",
    "df3 = pd.merge(df_results, df_new, left_index=True, right_index=True)\n",
    "df3.loc[:,['EXPECTEDTOTAL_y','STATE_y','ELAPSED_TIME_y','Converted','prediction']]"
   ]
  },
  {
   "cell_type": "code",
   "execution_count": null,
   "metadata": {},
   "outputs": [],
   "source": []
  }
 ],
 "metadata": {
  "kernelspec": {
   "display_name": "Python 3",
   "language": "python",
   "name": "python3"
  },
  "language_info": {
   "codemirror_mode": {
    "name": "ipython",
    "version": 3
   },
   "file_extension": ".py",
   "mimetype": "text/x-python",
   "name": "python",
   "nbconvert_exporter": "python",
   "pygments_lexer": "ipython3",
   "version": "3.6.5"
  }
 },
 "nbformat": 4,
 "nbformat_minor": 2
}
